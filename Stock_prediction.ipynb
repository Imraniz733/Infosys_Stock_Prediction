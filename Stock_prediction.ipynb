{
 "cells": [
  {
   "cell_type": "markdown",
   "id": "8eb575e7-0c8f-4306-9c4c-48044d1b944e",
   "metadata": {},
   "source": [
    "# Infosys Stock Analysis"
   ]
  },
  {
   "cell_type": "code",
   "execution_count": 1,
   "id": "1f59b82f-b0a0-4e9b-a194-18f19864c0b5",
   "metadata": {},
   "outputs": [],
   "source": [
    "import pandas as pd\n",
    "import matplotlib.pyplot as plt\n",
    "import os\n",
    "\n",
    "os.chdir(r'C:\\Users\\Lenovo\\Documents\\Stock Prediction')"
   ]
  },
  {
   "cell_type": "code",
   "execution_count": 2,
   "id": "4cfd1f31-ce24-4af6-954c-3c62608c7cb1",
   "metadata": {},
   "outputs": [
    {
     "name": "stdout",
     "output_type": "stream",
     "text": [
      "      Date  average_monthly_price\n",
      "0  2018-01                 461.15\n",
      "1  2018-02                 474.11\n",
      "2  2018-03                 486.50\n",
      "3  2018-04                 480.69\n",
      "4  2018-05                 499.25\n"
     ]
    }
   ],
   "source": [
    "# Loading monthly average CSV file\n",
    "df = pd.read_csv(\"monthly_average.csv\")\n",
    "\n",
    "# Let's peak into the data\n",
    "print(df.head())"
   ]
  },
  {
   "cell_type": "code",
   "execution_count": 3,
   "id": "fd153b5b-ff4b-4966-9d68-7fd65662ee07",
   "metadata": {},
   "outputs": [
    {
     "name": "stdout",
     "output_type": "stream",
     "text": [
      "ADF Statistic: -0.8618083284397605\n",
      "p-value: 0.8002892529306627\n"
     ]
    }
   ],
   "source": [
    "# Let's start the SARIMA model\n",
    "\n",
    "from statsmodels.tsa.stattools import adfuller\n",
    "\n",
    "result = adfuller(df['average_monthly_price'])\n",
    "print(\"ADF Statistic:\", result[0])\n",
    "print(\"p-value:\", result[1])\n"
   ]
  },
  {
   "cell_type": "code",
   "execution_count": 4,
   "id": "277bbb98-f5ad-4d20-b002-dfdcc8689c6e",
   "metadata": {},
   "outputs": [],
   "source": [
    "df_diff = df['average_monthly_price'].diff().dropna()"
   ]
  },
  {
   "cell_type": "code",
   "execution_count": 5,
   "id": "de0d9e53-aed2-47f9-850e-a72dcb34398b",
   "metadata": {},
   "outputs": [
    {
     "name": "stdout",
     "output_type": "stream",
     "text": [
      "ADF Statistic after 1st differencing: -1.635163604840375\n",
      "p-value after 1st differencing: 0.46478905094239337\n"
     ]
    }
   ],
   "source": [
    "from statsmodels.tsa.stattools import adfuller\n",
    "result_diff = adfuller(df_diff)\n",
    "print(\"ADF Statistic after 1st differencing:\", result_diff[0])\n",
    "print(\"p-value after 1st differencing:\", result_diff[1])\n"
   ]
  },
  {
   "cell_type": "code",
   "execution_count": 6,
   "id": "63b5e872-2928-451f-a61d-a08027075d31",
   "metadata": {},
   "outputs": [
    {
     "name": "stdout",
     "output_type": "stream",
     "text": [
      "ADF Statistic after 2nd differencing: -5.209510129610061\n",
      "p-value after 2nd differencing: 8.407417819787094e-06\n"
     ]
    }
   ],
   "source": [
    "# Applying second differencing\n",
    "df_diff2 = df['average_monthly_price'].diff().diff().dropna()\n",
    "\n",
    "# Running the ADF test on the twice-differenced series\n",
    "from statsmodels.tsa.stattools import adfuller\n",
    "result_diff2 = adfuller(df_diff2)\n",
    "print(\"ADF Statistic after 2nd differencing:\", result_diff2[0])\n",
    "print(\"p-value after 2nd differencing:\", result_diff2[1])\n"
   ]
  },
  {
   "cell_type": "code",
   "execution_count": 8,
   "id": "6e275d93-652c-4d88-ad0c-4f1fc3a025d6",
   "metadata": {},
   "outputs": [
    {
     "data": {
      "text/plain": [
       "'upper average_monthly_price'"
      ]
     },
     "execution_count": 8,
     "metadata": {},
     "output_type": "execute_result"
    }
   ],
   "source": [
    "\"lower average_monthly_price\" and \"upper average_monthly_price\""
   ]
  },
  {
   "cell_type": "code",
   "execution_count": 18,
   "id": "f6d909a2-10df-47a8-afc5-6b6d2a18a519",
   "metadata": {
    "scrolled": true
   },
   "outputs": [
    {
     "name": "stderr",
     "output_type": "stream",
     "text": [
      "C:\\Users\\Lenovo\\miniconda3\\envs\\myenv\\lib\\site-packages\\sklearn\\utils\\deprecation.py:151: FutureWarning: 'force_all_finite' was renamed to 'ensure_all_finite' in 1.6 and will be removed in 1.8.\n",
      "  warnings.warn(\n",
      "C:\\Users\\Lenovo\\miniconda3\\envs\\myenv\\lib\\site-packages\\sklearn\\utils\\deprecation.py:151: FutureWarning: 'force_all_finite' was renamed to 'ensure_all_finite' in 1.6 and will be removed in 1.8.\n",
      "  warnings.warn(\n"
     ]
    },
    {
     "name": "stdout",
     "output_type": "stream",
     "text": [
      "Performing stepwise search to minimize aic\n",
      " ARIMA(2,2,2)(1,1,1)[12]             : AIC=inf, Time=3.94 sec\n",
      " ARIMA(0,2,0)(0,1,0)[12]             : AIC=867.927, Time=0.06 sec\n"
     ]
    },
    {
     "name": "stderr",
     "output_type": "stream",
     "text": [
      "C:\\Users\\Lenovo\\miniconda3\\envs\\myenv\\lib\\site-packages\\sklearn\\utils\\deprecation.py:151: FutureWarning: 'force_all_finite' was renamed to 'ensure_all_finite' in 1.6 and will be removed in 1.8.\n",
      "  warnings.warn(\n",
      "C:\\Users\\Lenovo\\miniconda3\\envs\\myenv\\lib\\site-packages\\sklearn\\utils\\deprecation.py:151: FutureWarning: 'force_all_finite' was renamed to 'ensure_all_finite' in 1.6 and will be removed in 1.8.\n",
      "  warnings.warn(\n"
     ]
    },
    {
     "name": "stdout",
     "output_type": "stream",
     "text": [
      " ARIMA(1,2,0)(1,1,0)[12]             : AIC=843.950, Time=0.47 sec\n"
     ]
    },
    {
     "name": "stderr",
     "output_type": "stream",
     "text": [
      "C:\\Users\\Lenovo\\miniconda3\\envs\\myenv\\lib\\site-packages\\sklearn\\utils\\deprecation.py:151: FutureWarning: 'force_all_finite' was renamed to 'ensure_all_finite' in 1.6 and will be removed in 1.8.\n",
      "  warnings.warn(\n"
     ]
    },
    {
     "name": "stdout",
     "output_type": "stream",
     "text": [
      " ARIMA(0,2,1)(0,1,1)[12]             : AIC=812.025, Time=0.77 sec\n"
     ]
    },
    {
     "name": "stderr",
     "output_type": "stream",
     "text": [
      "C:\\Users\\Lenovo\\miniconda3\\envs\\myenv\\lib\\site-packages\\sklearn\\utils\\deprecation.py:151: FutureWarning: 'force_all_finite' was renamed to 'ensure_all_finite' in 1.6 and will be removed in 1.8.\n",
      "  warnings.warn(\n"
     ]
    },
    {
     "name": "stdout",
     "output_type": "stream",
     "text": [
      " ARIMA(0,2,1)(0,1,0)[12]             : AIC=826.545, Time=0.26 sec\n"
     ]
    },
    {
     "name": "stderr",
     "output_type": "stream",
     "text": [
      "C:\\Users\\Lenovo\\miniconda3\\envs\\myenv\\lib\\site-packages\\sklearn\\utils\\deprecation.py:151: FutureWarning: 'force_all_finite' was renamed to 'ensure_all_finite' in 1.6 and will be removed in 1.8.\n",
      "  warnings.warn(\n"
     ]
    },
    {
     "name": "stdout",
     "output_type": "stream",
     "text": [
      " ARIMA(0,2,1)(1,1,1)[12]             : AIC=inf, Time=2.38 sec\n"
     ]
    },
    {
     "name": "stderr",
     "output_type": "stream",
     "text": [
      "C:\\Users\\Lenovo\\miniconda3\\envs\\myenv\\lib\\site-packages\\sklearn\\utils\\deprecation.py:151: FutureWarning: 'force_all_finite' was renamed to 'ensure_all_finite' in 1.6 and will be removed in 1.8.\n",
      "  warnings.warn(\n"
     ]
    },
    {
     "name": "stdout",
     "output_type": "stream",
     "text": [
      " ARIMA(0,2,1)(0,1,2)[12]             : AIC=inf, Time=2.41 sec\n"
     ]
    },
    {
     "name": "stderr",
     "output_type": "stream",
     "text": [
      "C:\\Users\\Lenovo\\miniconda3\\envs\\myenv\\lib\\site-packages\\sklearn\\utils\\deprecation.py:151: FutureWarning: 'force_all_finite' was renamed to 'ensure_all_finite' in 1.6 and will be removed in 1.8.\n",
      "  warnings.warn(\n"
     ]
    },
    {
     "name": "stdout",
     "output_type": "stream",
     "text": [
      " ARIMA(0,2,1)(1,1,0)[12]             : AIC=821.639, Time=0.68 sec\n"
     ]
    },
    {
     "name": "stderr",
     "output_type": "stream",
     "text": [
      "C:\\Users\\Lenovo\\miniconda3\\envs\\myenv\\lib\\site-packages\\sklearn\\utils\\deprecation.py:151: FutureWarning: 'force_all_finite' was renamed to 'ensure_all_finite' in 1.6 and will be removed in 1.8.\n",
      "  warnings.warn(\n"
     ]
    },
    {
     "name": "stdout",
     "output_type": "stream",
     "text": [
      " ARIMA(0,2,1)(1,1,2)[12]             : AIC=inf, Time=3.67 sec\n"
     ]
    },
    {
     "name": "stderr",
     "output_type": "stream",
     "text": [
      "C:\\Users\\Lenovo\\miniconda3\\envs\\myenv\\lib\\site-packages\\sklearn\\utils\\deprecation.py:151: FutureWarning: 'force_all_finite' was renamed to 'ensure_all_finite' in 1.6 and will be removed in 1.8.\n",
      "  warnings.warn(\n"
     ]
    },
    {
     "name": "stdout",
     "output_type": "stream",
     "text": [
      " ARIMA(0,2,0)(0,1,1)[12]             : AIC=inf, Time=0.60 sec\n"
     ]
    },
    {
     "name": "stderr",
     "output_type": "stream",
     "text": [
      "C:\\Users\\Lenovo\\miniconda3\\envs\\myenv\\lib\\site-packages\\sklearn\\utils\\deprecation.py:151: FutureWarning: 'force_all_finite' was renamed to 'ensure_all_finite' in 1.6 and will be removed in 1.8.\n",
      "  warnings.warn(\n"
     ]
    },
    {
     "name": "stdout",
     "output_type": "stream",
     "text": [
      " ARIMA(1,2,1)(0,1,1)[12]             : AIC=813.758, Time=0.91 sec\n"
     ]
    },
    {
     "name": "stderr",
     "output_type": "stream",
     "text": [
      "C:\\Users\\Lenovo\\miniconda3\\envs\\myenv\\lib\\site-packages\\sklearn\\utils\\deprecation.py:151: FutureWarning: 'force_all_finite' was renamed to 'ensure_all_finite' in 1.6 and will be removed in 1.8.\n",
      "  warnings.warn(\n"
     ]
    },
    {
     "name": "stdout",
     "output_type": "stream",
     "text": [
      " ARIMA(0,2,2)(0,1,1)[12]             : AIC=813.644, Time=1.14 sec\n"
     ]
    },
    {
     "name": "stderr",
     "output_type": "stream",
     "text": [
      "C:\\Users\\Lenovo\\miniconda3\\envs\\myenv\\lib\\site-packages\\sklearn\\utils\\deprecation.py:151: FutureWarning: 'force_all_finite' was renamed to 'ensure_all_finite' in 1.6 and will be removed in 1.8.\n",
      "  warnings.warn(\n"
     ]
    },
    {
     "name": "stdout",
     "output_type": "stream",
     "text": [
      " ARIMA(1,2,0)(0,1,1)[12]             : AIC=833.444, Time=1.23 sec\n"
     ]
    },
    {
     "name": "stderr",
     "output_type": "stream",
     "text": [
      "C:\\Users\\Lenovo\\miniconda3\\envs\\myenv\\lib\\site-packages\\sklearn\\utils\\deprecation.py:151: FutureWarning: 'force_all_finite' was renamed to 'ensure_all_finite' in 1.6 and will be removed in 1.8.\n",
      "  warnings.warn(\n"
     ]
    },
    {
     "name": "stdout",
     "output_type": "stream",
     "text": [
      " ARIMA(1,2,2)(0,1,1)[12]             : AIC=inf, Time=1.96 sec\n"
     ]
    },
    {
     "name": "stderr",
     "output_type": "stream",
     "text": [
      "C:\\Users\\Lenovo\\miniconda3\\envs\\myenv\\lib\\site-packages\\sklearn\\utils\\deprecation.py:151: FutureWarning: 'force_all_finite' was renamed to 'ensure_all_finite' in 1.6 and will be removed in 1.8.\n",
      "  warnings.warn(\n"
     ]
    },
    {
     "name": "stdout",
     "output_type": "stream",
     "text": [
      " ARIMA(0,2,1)(0,1,1)[12] intercept   : AIC=813.809, Time=1.04 sec\n",
      "\n",
      "Best model:  ARIMA(0,2,1)(0,1,1)[12]          \n",
      "Total fit time: 21.535 seconds\n",
      "                            date        value     lower_ci     upper_ci  \\\n",
      "84 1970-02-01 00:00:00.000000083  1998.501730  1859.552033  2137.451427   \n",
      "85 1970-03-01 00:00:00.000000083  2036.612974  1824.362753  2248.863195   \n",
      "86 1970-04-01 00:00:00.000000083  2016.360391  1736.485672  2296.235110   \n",
      "87 1970-05-01 00:00:00.000000083  1970.156545  1623.630895  2316.682195   \n",
      "88 1970-06-01 00:00:00.000000083  1952.036215  1538.231462  2365.840968   \n",
      "\n",
      "        type  \n",
      "84  forecast  \n",
      "85  forecast  \n",
      "86  forecast  \n",
      "87  forecast  \n",
      "88  forecast  \n"
     ]
    },
    {
     "name": "stderr",
     "output_type": "stream",
     "text": [
      "C:\\Users\\Lenovo\\miniconda3\\envs\\myenv\\lib\\site-packages\\sklearn\\utils\\deprecation.py:151: FutureWarning: 'force_all_finite' was renamed to 'ensure_all_finite' in 1.6 and will be removed in 1.8.\n",
      "  warnings.warn(\n",
      "C:\\Users\\Lenovo\\miniconda3\\envs\\myenv\\lib\\site-packages\\sklearn\\utils\\deprecation.py:151: FutureWarning: 'force_all_finite' was renamed to 'ensure_all_finite' in 1.6 and will be removed in 1.8.\n",
      "  warnings.warn(\n"
     ]
    }
   ],
   "source": [
    "import pmdarima as pm\n",
    "import pandas as pd\n",
    "\n",
    "# Fit SARIMA model\n",
    "model = pm.auto_arima(df['average_monthly_price'],\n",
    "                      seasonal=True,\n",
    "                      m=12,\n",
    "                      d=2,\n",
    "                      D=1,\n",
    "                      trace=True,\n",
    "                      error_action='ignore',\n",
    "                      suppress_warnings=True,\n",
    "                      stepwise=True)\n",
    "\n",
    "# Forecast the next 12 periods\n",
    "n_periods = 12\n",
    "forecast_result = model.predict(n_periods=n_periods, return_conf_int=True)\n",
    "\n",
    "# forecast_result contains both forecast values and confidence intervals\n",
    "forecast_values = forecast_result[0]  # The first element is the forecasted values\n",
    "conf_int = forecast_result[1]  # The second element is the confidence intervals\n",
    "\n",
    "# Prepare DataFrame with forecast results\n",
    "forecast_df = pd.DataFrame({\n",
    "    'date': pd.date_range(start=df.index[-1], periods=n_periods+1, freq='MS')[1:],  # skip last known date\n",
    "    'value': forecast_values,\n",
    "    'lower_ci': conf_int[:, 0],  # Extract lower confidence interval\n",
    "    'upper_ci': conf_int[:, 1],  # Extract upper confidence interval\n",
    "    'type': 'forecast'\n",
    "})\n",
    "\n",
    "# Display the forecasted data\n",
    "print(forecast_df.head())\n"
   ]
  },
  {
   "cell_type": "code",
   "execution_count": null,
   "id": "8f1b7cbe-eb51-4ca3-b44f-bdfa35d0792c",
   "metadata": {},
   "outputs": [],
   "source": []
  },
  {
   "cell_type": "code",
   "execution_count": null,
   "id": "48787526-b1c4-4021-b1bb-8aaf111e1b87",
   "metadata": {},
   "outputs": [],
   "source": []
  }
 ],
 "metadata": {
  "kernelspec": {
   "display_name": "Python 3 (ipykernel)",
   "language": "python",
   "name": "python3"
  },
  "language_info": {
   "codemirror_mode": {
    "name": "ipython",
    "version": 3
   },
   "file_extension": ".py",
   "mimetype": "text/x-python",
   "name": "python",
   "nbconvert_exporter": "python",
   "pygments_lexer": "ipython3",
   "version": "3.9.19"
  }
 },
 "nbformat": 4,
 "nbformat_minor": 5
}
